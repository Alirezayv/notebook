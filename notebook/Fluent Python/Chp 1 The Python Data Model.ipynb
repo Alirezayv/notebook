{
 "cells": [
  {
   "cell_type": "code",
   "execution_count": null,
   "id": "1cd42182-f7d7-4dda-9ae4-df4352cb68fe",
   "metadata": {},
   "outputs": [],
   "source": []
  }
 ],
 "metadata": {
  "kernelspec": {
   "display_name": "Python 3 (ipykernel)",
   "language": "python",
   "name": "python3"
  },
  "language_info": {
   "codemirror_mode": {
    "name": "ipython",
    "version": 3
   },
   "file_extension": ".py",
   "mimetype": "text/x-python",
   "name": "python",
   "nbconvert_exporter": "python",
   "pygments_lexer": "ipython3",
   "version": "3.12.7"
  }
 },
 "nbformat": 4,
 "nbformat_minor": 5
}
